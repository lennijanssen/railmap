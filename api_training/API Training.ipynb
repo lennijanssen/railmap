{
 "cells": [
  {
   "cell_type": "markdown",
   "id": "7868dd76",
   "metadata": {},
   "source": [
    "# API Training (until I am able to retrieve Live APIs)"
   ]
  },
  {
   "cell_type": "code",
   "execution_count": null,
   "id": "d1bb4aa1",
   "metadata": {},
   "outputs": [],
   "source": [
    "import numpy as np\n",
    "import pandas as pd\n",
    "import matplotlib.pyplot as plt"
   ]
  },
  {
   "cell_type": "markdown",
   "id": "3c255b71",
   "metadata": {},
   "source": [
    "## First, we go for the classic map location finder API"
   ]
  },
  {
   "cell_type": "code",
   "execution_count": 19,
   "id": "a427e61c",
   "metadata": {},
   "outputs": [
    {
     "data": {
      "text/plain": [
       "{'items': [{'title': 'White House',\n",
       "   'id': 'here:pds:place:840dqcjq-375129ddfc42424fae2626176cc74099',\n",
       "   'resultType': 'place',\n",
       "   'address': {'label': 'White House, 1600 Pennsylvania Ave NW, Washington, DC 20500-0005, United States',\n",
       "    'countryCode': 'USA',\n",
       "    'countryName': 'United States',\n",
       "    'stateCode': 'DC',\n",
       "    'state': 'District of Columbia',\n",
       "    'county': 'District of Columbia',\n",
       "    'city': 'Washington',\n",
       "    'district': 'Washington Mall',\n",
       "    'street': 'Pennsylvania Ave NW',\n",
       "    'postalCode': '20500-0005',\n",
       "    'houseNumber': '1600'},\n",
       "   'position': {'lat': 38.89768, 'lng': -77.03655},\n",
       "   'access': [{'lat': 38.89795, 'lng': -77.03655}],\n",
       "   'categories': [{'id': '800-8100-0171',\n",
       "     'name': 'Government Office',\n",
       "     'primary': True},\n",
       "    {'id': '200-2200-0000', 'name': 'Theatre, Music and Culture'},\n",
       "    {'id': '300-3000-0023', 'name': 'Tourist Attraction'},\n",
       "    {'id': '800-8100-0000', 'name': 'Government/Community Facility'}],\n",
       "   'scoring': {'queryScore': 1.0,\n",
       "    'fieldScore': {'city': 1.0, 'placeName': 1.0}}}]}"
      ]
     },
     "execution_count": 19,
     "metadata": {},
     "output_type": "execute_result"
    }
   ],
   "source": [
    "import requests\n",
    "\n",
    "address = 'White House, Washington D.C.'\n",
    "\n",
    "apikey = 'ZlEuBMQJgO0dmTwCezxviMrBHTLwwB2_Vtm6sLOArTc'\n",
    "\n",
    "url = 'https://discover.search.hereapi.com/v1/geocode'\n",
    "\n",
    "params = {\n",
    "    'apiKey' : apikey,\n",
    "    'lang' : 'en',\n",
    "    'limit' : 1,\n",
    "    'q' : address\n",
    "}\n",
    "\n",
    "api_data = requests.get(url, params).json()\n",
    "api_data"
   ]
  },
  {
   "cell_type": "markdown",
   "id": "8d3079a7",
   "metadata": {},
   "source": []
  },
  {
   "cell_type": "code",
   "execution_count": null,
   "id": "6852b0d6",
   "metadata": {},
   "outputs": [],
   "source": []
  }
 ],
 "metadata": {
  "kernelspec": {
   "display_name": "Python 3 (ipykernel)",
   "language": "python",
   "name": "python3"
  },
  "language_info": {
   "codemirror_mode": {
    "name": "ipython",
    "version": 3
   },
   "file_extension": ".py",
   "mimetype": "text/x-python",
   "name": "python",
   "nbconvert_exporter": "python",
   "pygments_lexer": "ipython3",
   "version": "3.10.6"
  },
  "toc": {
   "base_numbering": 1,
   "nav_menu": {},
   "number_sections": true,
   "sideBar": true,
   "skip_h1_title": false,
   "title_cell": "Table of Contents",
   "title_sidebar": "Contents",
   "toc_cell": false,
   "toc_position": {},
   "toc_section_display": true,
   "toc_window_display": false
  }
 },
 "nbformat": 4,
 "nbformat_minor": 5
}
