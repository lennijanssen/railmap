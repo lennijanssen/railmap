{
 "cells": [
  {
   "cell_type": "markdown",
   "id": "3b898a32",
   "metadata": {},
   "source": [
    "# API Training (until I am able to retrieve Live APIs)"
   ]
  },
  {
   "cell_type": "code",
   "execution_count": null,
   "id": "d055d373",
   "metadata": {},
   "outputs": [],
   "source": [
    "import numpy as np\n",
    "import pandas as pd\n",
    "import matplotlib.pyplot as plt"
   ]
  },
  {
   "cell_type": "code",
   "execution_count": 1,
   "id": "d53d101b",
   "metadata": {},
   "outputs": [],
   "source": [
    "import requests\n",
    "\n",
    "url = 'https://discover.search.hereapi.com/v1/geocode?apiKey=ZlEuBMQJgO0dmTwCezxviMrBHTLwwB2_Vtm6sLOArTc&lang=en&at=0,0&limit=1&q=494 Benjamins Rd, Santa Rosa CA, 95404'\n",
    "\n",
    "api_data = requests.get(url).json()\n",
    "api_data"
   ]
  },
  {
   "cell_type": "code",
   "execution_count": 2,
   "id": "fbe7227a",
   "metadata": {},
   "outputs": [
    {
     "data": {
      "text/plain": [
       "{'items': [{'title': '494 Benjamins Rd, Santa Rosa, CA 95409-3116, United States',\n",
       "   'id': 'here:af:streetsection:rstyuGusM4.H1ApQlSjcdA:CgcIBCDM37kPEAEaAzQ5NA',\n",
       "   'resultType': 'houseNumber',\n",
       "   'houseNumberType': 'PA',\n",
       "   'address': {'label': '494 Benjamins Rd, Santa Rosa, CA 95409-3116, United States',\n",
       "    'countryCode': 'USA',\n",
       "    'countryName': 'United States',\n",
       "    'stateCode': 'CA',\n",
       "    'state': 'California',\n",
       "    'county': 'Sonoma',\n",
       "    'city': 'Santa Rosa',\n",
       "    'street': 'Benjamins Rd',\n",
       "    'postalCode': '95409-3116',\n",
       "    'houseNumber': '494'},\n",
       "   'position': {'lat': 38.47172, 'lng': -122.66468},\n",
       "   'access': [{'lat': 38.47194, 'lng': -122.66516}],\n",
       "   'distance': 12786998,\n",
       "   'mapView': {'west': -122.66583,\n",
       "    'south': 38.47082,\n",
       "    'east': -122.66353,\n",
       "    'north': 38.47262},\n",
       "   'scoring': {'queryScore': 0.97,\n",
       "    'fieldScore': {'state': 1.0,\n",
       "     'city': 1.0,\n",
       "     'streets': [1.0],\n",
       "     'houseNumber': 1.0,\n",
       "     'postalCode': 0.8}}}]}"
      ]
     },
     "execution_count": 2,
     "metadata": {},
     "output_type": "execute_result"
    }
   ],
   "source": []
  },
  {
   "cell_type": "code",
   "execution_count": null,
   "id": "d9fb6c67",
   "metadata": {},
   "outputs": [],
   "source": []
  }
 ],
 "metadata": {
  "kernelspec": {
   "display_name": "Python 3 (ipykernel)",
   "language": "python",
   "name": "python3"
  },
  "language_info": {
   "codemirror_mode": {
    "name": "ipython",
    "version": 3
   },
   "file_extension": ".py",
   "mimetype": "text/x-python",
   "name": "python",
   "nbconvert_exporter": "python",
   "pygments_lexer": "ipython3",
   "version": "3.10.6"
  },
  "toc": {
   "base_numbering": 1,
   "nav_menu": {},
   "number_sections": true,
   "sideBar": true,
   "skip_h1_title": false,
   "title_cell": "Table of Contents",
   "title_sidebar": "Contents",
   "toc_cell": false,
   "toc_position": {},
   "toc_section_display": true,
   "toc_window_display": false
  }
 },
 "nbformat": 4,
 "nbformat_minor": 5
}
