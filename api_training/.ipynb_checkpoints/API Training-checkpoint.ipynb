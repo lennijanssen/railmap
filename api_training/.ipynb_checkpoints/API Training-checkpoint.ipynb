{
 "cells": [
  {
   "cell_type": "markdown",
   "id": "7868dd76",
   "metadata": {},
   "source": [
    "# API Training (until I am able to retrieve Live APIs)"
   ]
  },
  {
   "cell_type": "code",
   "execution_count": null,
   "id": "d1bb4aa1",
   "metadata": {},
   "outputs": [],
   "source": [
    "import numpy as np\n",
    "import pandas as pd\n",
    "import matplotlib.pyplot as plt"
   ]
  },
  {
   "cell_type": "code",
   "execution_count": 8,
   "id": "a427e61c",
   "metadata": {},
   "outputs": [
    {
     "ename": "NameError",
     "evalue": "name 'apiKey' is not defined",
     "output_type": "error",
     "traceback": [
      "\u001b[0;31m---------------------------------------------------------------------------\u001b[0m",
      "\u001b[0;31mNameError\u001b[0m                                 Traceback (most recent call last)",
      "Cell \u001b[0;32mIn [8], line 10\u001b[0m\n\u001b[1;32m      5\u001b[0m apikey \u001b[38;5;241m=\u001b[39m \u001b[38;5;124m'\u001b[39m\u001b[38;5;124mZlEuBMQJgO0dmTwCezxviMrBHTLwwB2_Vtm6sLOArTc\u001b[39m\u001b[38;5;124m'\u001b[39m\n\u001b[1;32m      7\u001b[0m url \u001b[38;5;241m=\u001b[39m \u001b[38;5;124m'\u001b[39m\u001b[38;5;124mhttps://discover.search.hereapi.com/v1/geocode\u001b[39m\u001b[38;5;124m'\u001b[39m\n\u001b[1;32m      9\u001b[0m params \u001b[38;5;241m=\u001b[39m {\n\u001b[0;32m---> 10\u001b[0m     \u001b[43mapiKey\u001b[49m : apikey,\n\u001b[1;32m     11\u001b[0m     lang : en,\n\u001b[1;32m     12\u001b[0m     at : (\u001b[38;5;241m0\u001b[39m,\u001b[38;5;241m0\u001b[39m),\n\u001b[1;32m     13\u001b[0m     limit : \u001b[38;5;241m1\u001b[39m,\n\u001b[1;32m     14\u001b[0m     q : address\n\u001b[1;32m     15\u001b[0m }\n\u001b[1;32m     17\u001b[0m api_data \u001b[38;5;241m=\u001b[39m requests\u001b[38;5;241m.\u001b[39mget(url, params)\u001b[38;5;241m.\u001b[39mjson()\n",
      "\u001b[0;31mNameError\u001b[0m: name 'apiKey' is not defined"
     ]
    }
   ],
   "source": [
    "import requests\n",
    "\n",
    "address = '494 Benjamins Rd, Santa Rosa CA, 95404'\n",
    "\n",
    "apikey = 'ZlEuBMQJgO0dmTwCezxviMrBHTLwwB2_Vtm6sLOArTc'\n",
    "\n",
    "url = 'https://discover.search.hereapi.com/v1/geocode'\n",
    "\n",
    "params = {\n",
    "    'apiKey' : apikey,\n",
    "    'lang' : en,\n",
    "    'at' : (0,0),\n",
    "    'limit' : 1,\n",
    "    'q' : address\n",
    "}\n",
    "\n",
    "api_data = requests.get(url, params).json()\n"
   ]
  },
  {
   "cell_type": "code",
   "execution_count": 2,
   "id": "3218e94f",
   "metadata": {},
   "outputs": [
    {
     "data": {
      "text/plain": [
       "{'items': [{'title': '494 Benjamins Rd, Santa Rosa, CA 95409-3116, United States',\n",
       "   'id': 'here:af:streetsection:rstyuGusM4.H1ApQlSjcdA:CgcIBCDM37kPEAEaAzQ5NA',\n",
       "   'resultType': 'houseNumber',\n",
       "   'houseNumberType': 'PA',\n",
       "   'address': {'label': '494 Benjamins Rd, Santa Rosa, CA 95409-3116, United States',\n",
       "    'countryCode': 'USA',\n",
       "    'countryName': 'United States',\n",
       "    'stateCode': 'CA',\n",
       "    'state': 'California',\n",
       "    'county': 'Sonoma',\n",
       "    'city': 'Santa Rosa',\n",
       "    'street': 'Benjamins Rd',\n",
       "    'postalCode': '95409-3116',\n",
       "    'houseNumber': '494'},\n",
       "   'position': {'lat': 38.47172, 'lng': -122.66468},\n",
       "   'access': [{'lat': 38.47194, 'lng': -122.66516}],\n",
       "   'distance': 12786998,\n",
       "   'mapView': {'west': -122.66583,\n",
       "    'south': 38.47082,\n",
       "    'east': -122.66353,\n",
       "    'north': 38.47262},\n",
       "   'scoring': {'queryScore': 0.97,\n",
       "    'fieldScore': {'state': 1.0,\n",
       "     'city': 1.0,\n",
       "     'streets': [1.0],\n",
       "     'houseNumber': 1.0,\n",
       "     'postalCode': 0.8}}}]}"
      ]
     },
     "execution_count": 2,
     "metadata": {},
     "output_type": "execute_result"
    }
   ],
   "source": [
    "api_data"
   ]
  },
  {
   "cell_type": "code",
   "execution_count": null,
   "id": "dfafaa38",
   "metadata": {},
   "outputs": [],
   "source": []
  }
 ],
 "metadata": {
  "kernelspec": {
   "display_name": "Python 3 (ipykernel)",
   "language": "python",
   "name": "python3"
  },
  "language_info": {
   "codemirror_mode": {
    "name": "ipython",
    "version": 3
   },
   "file_extension": ".py",
   "mimetype": "text/x-python",
   "name": "python",
   "nbconvert_exporter": "python",
   "pygments_lexer": "ipython3",
   "version": "3.10.6"
  },
  "toc": {
   "base_numbering": 1,
   "nav_menu": {},
   "number_sections": true,
   "sideBar": true,
   "skip_h1_title": false,
   "title_cell": "Table of Contents",
   "title_sidebar": "Contents",
   "toc_cell": false,
   "toc_position": {},
   "toc_section_display": true,
   "toc_window_display": false
  }
 },
 "nbformat": 4,
 "nbformat_minor": 5
}
